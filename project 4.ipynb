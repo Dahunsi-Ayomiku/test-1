{
 "cells": [
  {
   "cell_type": "code",
   "execution_count": 3,
   "id": "8f23c03e",
   "metadata": {},
   "outputs": [],
   "source": [
    "people={\"firstname\": [\"dayo\",\"sayo\",\"bayo\",\"layo\",\"lola\"],\n",
    "       \"lastname\": [\"Odewale\",\"Alade\",\"Opeyemi\",\"Adewunmi\",\"Olwolabi\"],\n",
    "       \"email\": [\"dayoodewale@gmail.com\",\"sayoalade@gmail.com\",\"bayoopeyemi@gmail.com\",\"layoadewunmi@gmail.com\",\"lolaowolabi@gmail.com\"]\n",
    "       }"
   ]
  },
  {
   "cell_type": "code",
   "execution_count": 4,
   "id": "2667fab2",
   "metadata": {},
   "outputs": [
    {
     "name": "stdout",
     "output_type": "stream",
     "text": [
      "{'firstname': ['dayo', 'sayo', 'bayo', 'layo', 'lola'], 'lastname': ['Odewale', 'Alade', 'Opeyemi', 'Adewunmi', 'Olwolabi'], 'email': ['dayoodewale@gmail.com', 'sayoalade@gmail.com', 'bayoopeyemi@gmail.com', 'layoadewunmi@gmail.com', 'lolaowolabi@gmail.com']}\n"
     ]
    }
   ],
   "source": [
    "print(people)"
   ]
  },
  {
   "cell_type": "code",
   "execution_count": 5,
   "id": "0b29e051",
   "metadata": {},
   "outputs": [],
   "source": [
    "import pandas as pd"
   ]
  },
  {
   "cell_type": "code",
   "execution_count": 6,
   "id": "b773a606",
   "metadata": {},
   "outputs": [
    {
     "name": "stdout",
     "output_type": "stream",
     "text": [
      "{'firstname': ['dayo', 'sayo', 'bayo', 'layo', 'lola'], 'lastname': ['Odewale', 'Alade', 'Opeyemi', 'Adewunmi', 'Olwolabi'], 'email': ['dayoodewale@gmail.com', 'sayoalade@gmail.com', 'bayoopeyemi@gmail.com', 'layoadewunmi@gmail.com', 'lolaowolabi@gmail.com']}\n"
     ]
    }
   ],
   "source": [
    "print(people)"
   ]
  },
  {
   "cell_type": "code",
   "execution_count": 9,
   "id": "83a89861",
   "metadata": {},
   "outputs": [
    {
     "data": {
      "text/plain": [
       "['dayoodewale@gmail.com',\n",
       " 'sayoalade@gmail.com',\n",
       " 'bayoopeyemi@gmail.com',\n",
       " 'layoadewunmi@gmail.com',\n",
       " 'lolaowolabi@gmail.com']"
      ]
     },
     "execution_count": 9,
     "metadata": {},
     "output_type": "execute_result"
    }
   ],
   "source": [
    "people[\"email\"]"
   ]
  },
  {
   "cell_type": "code",
   "execution_count": 10,
   "id": "e7de9686",
   "metadata": {},
   "outputs": [],
   "source": [
    "df=pd.DataFrame(people)"
   ]
  },
  {
   "cell_type": "code",
   "execution_count": 11,
   "id": "b1ef6072",
   "metadata": {},
   "outputs": [
    {
     "data": {
      "text/html": [
       "<div>\n",
       "<style scoped>\n",
       "    .dataframe tbody tr th:only-of-type {\n",
       "        vertical-align: middle;\n",
       "    }\n",
       "\n",
       "    .dataframe tbody tr th {\n",
       "        vertical-align: top;\n",
       "    }\n",
       "\n",
       "    .dataframe thead th {\n",
       "        text-align: right;\n",
       "    }\n",
       "</style>\n",
       "<table border=\"1\" class=\"dataframe\">\n",
       "  <thead>\n",
       "    <tr style=\"text-align: right;\">\n",
       "      <th></th>\n",
       "      <th>firstname</th>\n",
       "      <th>lastname</th>\n",
       "      <th>email</th>\n",
       "    </tr>\n",
       "  </thead>\n",
       "  <tbody>\n",
       "    <tr>\n",
       "      <th>0</th>\n",
       "      <td>dayo</td>\n",
       "      <td>Odewale</td>\n",
       "      <td>dayoodewale@gmail.com</td>\n",
       "    </tr>\n",
       "    <tr>\n",
       "      <th>1</th>\n",
       "      <td>sayo</td>\n",
       "      <td>Alade</td>\n",
       "      <td>sayoalade@gmail.com</td>\n",
       "    </tr>\n",
       "    <tr>\n",
       "      <th>2</th>\n",
       "      <td>bayo</td>\n",
       "      <td>Opeyemi</td>\n",
       "      <td>bayoopeyemi@gmail.com</td>\n",
       "    </tr>\n",
       "    <tr>\n",
       "      <th>3</th>\n",
       "      <td>layo</td>\n",
       "      <td>Adewunmi</td>\n",
       "      <td>layoadewunmi@gmail.com</td>\n",
       "    </tr>\n",
       "    <tr>\n",
       "      <th>4</th>\n",
       "      <td>lola</td>\n",
       "      <td>Olwolabi</td>\n",
       "      <td>lolaowolabi@gmail.com</td>\n",
       "    </tr>\n",
       "  </tbody>\n",
       "</table>\n",
       "</div>"
      ],
      "text/plain": [
       "  firstname  lastname                   email\n",
       "0      dayo   Odewale   dayoodewale@gmail.com\n",
       "1      sayo     Alade     sayoalade@gmail.com\n",
       "2      bayo   Opeyemi   bayoopeyemi@gmail.com\n",
       "3      layo  Adewunmi  layoadewunmi@gmail.com\n",
       "4      lola  Olwolabi   lolaowolabi@gmail.com"
      ]
     },
     "execution_count": 11,
     "metadata": {},
     "output_type": "execute_result"
    }
   ],
   "source": [
    "df"
   ]
  },
  {
   "cell_type": "code",
   "execution_count": 12,
   "id": "f5f0c680",
   "metadata": {},
   "outputs": [
    {
     "data": {
      "text/plain": [
       "0     dayoodewale@gmail.com\n",
       "1       sayoalade@gmail.com\n",
       "2     bayoopeyemi@gmail.com\n",
       "3    layoadewunmi@gmail.com\n",
       "4     lolaowolabi@gmail.com\n",
       "Name: email, dtype: object"
      ]
     },
     "execution_count": 12,
     "metadata": {},
     "output_type": "execute_result"
    }
   ],
   "source": [
    "df[\"email\"]"
   ]
  },
  {
   "cell_type": "code",
   "execution_count": 15,
   "id": "3f45e4fd",
   "metadata": {},
   "outputs": [
    {
     "data": {
      "text/plain": [
       "pandas.core.series.Series"
      ]
     },
     "execution_count": 15,
     "metadata": {},
     "output_type": "execute_result"
    }
   ],
   "source": [
    "type(df[\"firstname\"])"
   ]
  },
  {
   "cell_type": "code",
   "execution_count": 16,
   "id": "c5dad165",
   "metadata": {},
   "outputs": [
    {
     "data": {
      "text/plain": [
       "Index(['firstname', 'lastname', 'email'], dtype='object')"
      ]
     },
     "execution_count": 16,
     "metadata": {},
     "output_type": "execute_result"
    }
   ],
   "source": [
    "df.columns"
   ]
  },
  {
   "cell_type": "code",
   "execution_count": 18,
   "id": "0027854b",
   "metadata": {},
   "outputs": [
    {
     "data": {
      "text/plain": [
       "firstname                     dayo\n",
       "lastname                   Odewale\n",
       "email        dayoodewale@gmail.com\n",
       "Name: 0, dtype: object"
      ]
     },
     "execution_count": 18,
     "metadata": {},
     "output_type": "execute_result"
    }
   ],
   "source": [
    "df.iloc[0]"
   ]
  },
  {
   "cell_type": "code",
   "execution_count": 19,
   "id": "1b1f4999",
   "metadata": {},
   "outputs": [
    {
     "data": {
      "text/plain": [
       "firstname                     dayo\n",
       "lastname                   Odewale\n",
       "email        dayoodewale@gmail.com\n",
       "Name: 0, dtype: object"
      ]
     },
     "execution_count": 19,
     "metadata": {},
     "output_type": "execute_result"
    }
   ],
   "source": [
    "df.loc[0]"
   ]
  },
  {
   "cell_type": "code",
   "execution_count": 21,
   "id": "3508c5de",
   "metadata": {},
   "outputs": [
    {
     "data": {
      "text/plain": [
       "'Odewale'"
      ]
     },
     "execution_count": 21,
     "metadata": {},
     "output_type": "execute_result"
    }
   ],
   "source": [
    "df.iloc[0,1]"
   ]
  },
  {
   "cell_type": "code",
   "execution_count": 22,
   "id": "6ba4d3e8",
   "metadata": {},
   "outputs": [
    {
     "data": {
      "text/plain": [
       "0    dayoodewale@gmail.com\n",
       "1      sayoalade@gmail.com\n",
       "Name: email, dtype: object"
      ]
     },
     "execution_count": 22,
     "metadata": {},
     "output_type": "execute_result"
    }
   ],
   "source": [
    "df.iloc[[0,1],2]"
   ]
  },
  {
   "cell_type": "code",
   "execution_count": 24,
   "id": "65500093",
   "metadata": {},
   "outputs": [
    {
     "data": {
      "text/html": [
       "<div>\n",
       "<style scoped>\n",
       "    .dataframe tbody tr th:only-of-type {\n",
       "        vertical-align: middle;\n",
       "    }\n",
       "\n",
       "    .dataframe tbody tr th {\n",
       "        vertical-align: top;\n",
       "    }\n",
       "\n",
       "    .dataframe thead th {\n",
       "        text-align: right;\n",
       "    }\n",
       "</style>\n",
       "<table border=\"1\" class=\"dataframe\">\n",
       "  <thead>\n",
       "    <tr style=\"text-align: right;\">\n",
       "      <th></th>\n",
       "      <th>firstname</th>\n",
       "      <th>lastname</th>\n",
       "    </tr>\n",
       "    <tr>\n",
       "      <th>email</th>\n",
       "      <th></th>\n",
       "      <th></th>\n",
       "    </tr>\n",
       "  </thead>\n",
       "  <tbody>\n",
       "    <tr>\n",
       "      <th>dayoodewale@gmail.com</th>\n",
       "      <td>dayo</td>\n",
       "      <td>Odewale</td>\n",
       "    </tr>\n",
       "    <tr>\n",
       "      <th>sayoalade@gmail.com</th>\n",
       "      <td>sayo</td>\n",
       "      <td>Alade</td>\n",
       "    </tr>\n",
       "    <tr>\n",
       "      <th>bayoopeyemi@gmail.com</th>\n",
       "      <td>bayo</td>\n",
       "      <td>Opeyemi</td>\n",
       "    </tr>\n",
       "    <tr>\n",
       "      <th>layoadewunmi@gmail.com</th>\n",
       "      <td>layo</td>\n",
       "      <td>Adewunmi</td>\n",
       "    </tr>\n",
       "    <tr>\n",
       "      <th>lolaowolabi@gmail.com</th>\n",
       "      <td>lola</td>\n",
       "      <td>Olwolabi</td>\n",
       "    </tr>\n",
       "  </tbody>\n",
       "</table>\n",
       "</div>"
      ],
      "text/plain": [
       "                       firstname  lastname\n",
       "email                                     \n",
       "dayoodewale@gmail.com       dayo   Odewale\n",
       "sayoalade@gmail.com         sayo     Alade\n",
       "bayoopeyemi@gmail.com       bayo   Opeyemi\n",
       "layoadewunmi@gmail.com      layo  Adewunmi\n",
       "lolaowolabi@gmail.com       lola  Olwolabi"
      ]
     },
     "execution_count": 24,
     "metadata": {},
     "output_type": "execute_result"
    }
   ],
   "source": [
    "df.set_index(\"email\")"
   ]
  },
  {
   "cell_type": "code",
   "execution_count": 25,
   "id": "988724bb",
   "metadata": {},
   "outputs": [
    {
     "data": {
      "text/plain": [
       "RangeIndex(start=0, stop=5, step=1)"
      ]
     },
     "execution_count": 25,
     "metadata": {},
     "output_type": "execute_result"
    }
   ],
   "source": [
    "df.index"
   ]
  },
  {
   "cell_type": "code",
   "execution_count": 28,
   "id": "b2c6030e",
   "metadata": {},
   "outputs": [
    {
     "data": {
      "text/plain": [
       "firstname                     dayo\n",
       "lastname                   Odewale\n",
       "email        dayoodewale@gmail.com\n",
       "Name: 0, dtype: object"
      ]
     },
     "execution_count": 28,
     "metadata": {},
     "output_type": "execute_result"
    }
   ],
   "source": [
    "df.iloc[0]"
   ]
  },
  {
   "cell_type": "code",
   "execution_count": 30,
   "id": "dd9f91a6",
   "metadata": {},
   "outputs": [
    {
     "data": {
      "text/html": [
       "<div>\n",
       "<style scoped>\n",
       "    .dataframe tbody tr th:only-of-type {\n",
       "        vertical-align: middle;\n",
       "    }\n",
       "\n",
       "    .dataframe tbody tr th {\n",
       "        vertical-align: top;\n",
       "    }\n",
       "\n",
       "    .dataframe thead th {\n",
       "        text-align: right;\n",
       "    }\n",
       "</style>\n",
       "<table border=\"1\" class=\"dataframe\">\n",
       "  <thead>\n",
       "    <tr style=\"text-align: right;\">\n",
       "      <th></th>\n",
       "      <th>firstname</th>\n",
       "      <th>lastname</th>\n",
       "      <th>email</th>\n",
       "    </tr>\n",
       "  </thead>\n",
       "  <tbody>\n",
       "    <tr>\n",
       "      <th>4</th>\n",
       "      <td>lola</td>\n",
       "      <td>Olwolabi</td>\n",
       "      <td>lolaowolabi@gmail.com</td>\n",
       "    </tr>\n",
       "    <tr>\n",
       "      <th>3</th>\n",
       "      <td>layo</td>\n",
       "      <td>Adewunmi</td>\n",
       "      <td>layoadewunmi@gmail.com</td>\n",
       "    </tr>\n",
       "    <tr>\n",
       "      <th>2</th>\n",
       "      <td>bayo</td>\n",
       "      <td>Opeyemi</td>\n",
       "      <td>bayoopeyemi@gmail.com</td>\n",
       "    </tr>\n",
       "    <tr>\n",
       "      <th>1</th>\n",
       "      <td>sayo</td>\n",
       "      <td>Alade</td>\n",
       "      <td>sayoalade@gmail.com</td>\n",
       "    </tr>\n",
       "    <tr>\n",
       "      <th>0</th>\n",
       "      <td>dayo</td>\n",
       "      <td>Odewale</td>\n",
       "      <td>dayoodewale@gmail.com</td>\n",
       "    </tr>\n",
       "  </tbody>\n",
       "</table>\n",
       "</div>"
      ],
      "text/plain": [
       "  firstname  lastname                   email\n",
       "4      lola  Olwolabi   lolaowolabi@gmail.com\n",
       "3      layo  Adewunmi  layoadewunmi@gmail.com\n",
       "2      bayo   Opeyemi   bayoopeyemi@gmail.com\n",
       "1      sayo     Alade     sayoalade@gmail.com\n",
       "0      dayo   Odewale   dayoodewale@gmail.com"
      ]
     },
     "execution_count": 30,
     "metadata": {},
     "output_type": "execute_result"
    }
   ],
   "source": [
    "df.sort_index(ascending=False)"
   ]
  },
  {
   "cell_type": "code",
   "execution_count": 31,
   "id": "81671c8d",
   "metadata": {},
   "outputs": [
    {
     "data": {
      "text/html": [
       "<div>\n",
       "<style scoped>\n",
       "    .dataframe tbody tr th:only-of-type {\n",
       "        vertical-align: middle;\n",
       "    }\n",
       "\n",
       "    .dataframe tbody tr th {\n",
       "        vertical-align: top;\n",
       "    }\n",
       "\n",
       "    .dataframe thead th {\n",
       "        text-align: right;\n",
       "    }\n",
       "</style>\n",
       "<table border=\"1\" class=\"dataframe\">\n",
       "  <thead>\n",
       "    <tr style=\"text-align: right;\">\n",
       "      <th></th>\n",
       "      <th>firstname</th>\n",
       "      <th>lastname</th>\n",
       "      <th>email</th>\n",
       "    </tr>\n",
       "  </thead>\n",
       "  <tbody>\n",
       "    <tr>\n",
       "      <th>0</th>\n",
       "      <td>dayo</td>\n",
       "      <td>Odewale</td>\n",
       "      <td>dayoodewale@gmail.com</td>\n",
       "    </tr>\n",
       "    <tr>\n",
       "      <th>1</th>\n",
       "      <td>sayo</td>\n",
       "      <td>Alade</td>\n",
       "      <td>sayoalade@gmail.com</td>\n",
       "    </tr>\n",
       "    <tr>\n",
       "      <th>2</th>\n",
       "      <td>bayo</td>\n",
       "      <td>Opeyemi</td>\n",
       "      <td>bayoopeyemi@gmail.com</td>\n",
       "    </tr>\n",
       "    <tr>\n",
       "      <th>3</th>\n",
       "      <td>layo</td>\n",
       "      <td>Adewunmi</td>\n",
       "      <td>layoadewunmi@gmail.com</td>\n",
       "    </tr>\n",
       "    <tr>\n",
       "      <th>4</th>\n",
       "      <td>lola</td>\n",
       "      <td>Olwolabi</td>\n",
       "      <td>lolaowolabi@gmail.com</td>\n",
       "    </tr>\n",
       "  </tbody>\n",
       "</table>\n",
       "</div>"
      ],
      "text/plain": [
       "  firstname  lastname                   email\n",
       "0      dayo   Odewale   dayoodewale@gmail.com\n",
       "1      sayo     Alade     sayoalade@gmail.com\n",
       "2      bayo   Opeyemi   bayoopeyemi@gmail.com\n",
       "3      layo  Adewunmi  layoadewunmi@gmail.com\n",
       "4      lola  Olwolabi   lolaowolabi@gmail.com"
      ]
     },
     "execution_count": 31,
     "metadata": {},
     "output_type": "execute_result"
    }
   ],
   "source": [
    "df.sort_index(ascending=True)"
   ]
  },
  {
   "cell_type": "code",
   "execution_count": 33,
   "id": "81dfba23",
   "metadata": {},
   "outputs": [
    {
     "ename": "NameError",
     "evalue": "name 'inplace' is not defined",
     "output_type": "error",
     "traceback": [
      "\u001b[1;31m---------------------------------------------------------------------------\u001b[0m",
      "\u001b[1;31mNameError\u001b[0m                                 Traceback (most recent call last)",
      "Cell \u001b[1;32mIn[33], line 1\u001b[0m\n\u001b[1;32m----> 1\u001b[0m df\u001b[38;5;241m.\u001b[39mreset_index[\u001b[43minplace\u001b[49m\u001b[38;5;241m==\u001b[39m\u001b[38;5;28;01mTrue\u001b[39;00m]\n",
      "\u001b[1;31mNameError\u001b[0m: name 'inplace' is not defined"
     ]
    }
   ],
   "source": [
    "df.reset_index[inplace==True]"
   ]
  },
  {
   "cell_type": "code",
   "execution_count": null,
   "id": "a9d71f75",
   "metadata": {},
   "outputs": [],
   "source": []
  },
  {
   "cell_type": "code",
   "execution_count": null,
   "id": "026df6fe",
   "metadata": {},
   "outputs": [],
   "source": []
  },
  {
   "cell_type": "code",
   "execution_count": null,
   "id": "cb2ba1fd",
   "metadata": {},
   "outputs": [],
   "source": []
  }
 ],
 "metadata": {
  "kernelspec": {
   "display_name": "Python 3 (ipykernel)",
   "language": "python",
   "name": "python3"
  },
  "language_info": {
   "codemirror_mode": {
    "name": "ipython",
    "version": 3
   },
   "file_extension": ".py",
   "mimetype": "text/x-python",
   "name": "python",
   "nbconvert_exporter": "python",
   "pygments_lexer": "ipython3",
   "version": "3.10.9"
  }
 },
 "nbformat": 4,
 "nbformat_minor": 5
}
