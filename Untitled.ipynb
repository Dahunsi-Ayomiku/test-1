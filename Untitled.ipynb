{
 "cells": [
  {
   "cell_type": "code",
   "execution_count": 8,
   "id": "55d61475",
   "metadata": {},
   "outputs": [
    {
     "name": "stdout",
     "output_type": "stream",
     "text": [
      "   PHY102  MTS104  EEE201  EEE202  output\n",
      "0    60.0    70.0    57.0    64.0   51.50\n",
      "1    55.0    61.0    54.0    74.0   55.50\n",
      "2    68.0    54.0    44.0    52.0   51.50\n",
      "3    67.0    74.0    75.0    54.0   64.75\n",
      "4    56.0    72.0    66.0    60.0   62.00\n",
      "5    83.0    74.0    73.0    69.0   66.75\n",
      "6    71.0    71.0    61.0    52.0   61.25\n",
      "7    51.0    50.0    45.0    45.0   24.75\n",
      "8    51.0    51.0    45.0    35.0   23.50\n",
      "9    60.0    61.0    24.0    63.0   48.75\n"
     ]
    }
   ],
   "source": [
    "import numpy as np\n",
    "import pandas as pd\n",
    "import matplotlib.pyplot as plt\n",
    "pat=pd.read_csv(\"C:\\\\Users\\\\Hi\\\\Documents\\\\python\\\\data\\\\combinedCleaned.csv\")\n",
    "pop=pat.head(10)\n",
    "print(pop)"
   ]
  },
  {
   "cell_type": "code",
   "execution_count": null,
   "id": "7386344d",
   "metadata": {},
   "outputs": [],
   "source": [
    "x=pop[\"EEE202\"]\n",
    "y=pop[\"EEE201\"]"
   ]
  },
  {
   "cell_type": "code",
   "execution_count": 11,
   "id": "e276f2af",
   "metadata": {},
   "outputs": [
    {
     "ename": "NameError",
     "evalue": "name 'x' is not defined",
     "output_type": "error",
     "traceback": [
      "\u001b[1;31m---------------------------------------------------------------------------\u001b[0m",
      "\u001b[1;31mNameError\u001b[0m                                 Traceback (most recent call last)",
      "Cell \u001b[1;32mIn[11], line 1\u001b[0m\n\u001b[1;32m----> 1\u001b[0m sizes\u001b[38;5;241m=\u001b[39mnp\u001b[38;5;241m.\u001b[39mrandom\u001b[38;5;241m.\u001b[39muniform(\u001b[38;5;241m15\u001b[39m,\u001b[38;5;241m80\u001b[39m,\u001b[38;5;28mlen\u001b[39m(\u001b[43mx\u001b[49m))\n\u001b[0;32m      2\u001b[0m colors\u001b[38;5;241m=\u001b[39mnp\u001b[38;5;241m.\u001b[39mrandom\u001b[38;5;241m.\u001b[39muniform(\u001b[38;5;241m15\u001b[39m,\u001b[38;5;241m80\u001b[39m,\u001b[38;5;28mlen\u001b[39m(x))\n\u001b[0;32m      3\u001b[0m plt\u001b[38;5;241m.\u001b[39mscatter(x,y,s\u001b[38;5;241m=\u001b[39msizes,c\u001b[38;5;241m=\u001b[39mcolors,vmin\u001b[38;5;241m=\u001b[39m\u001b[38;5;241m0\u001b[39m,vmax\u001b[38;5;241m=\u001b[39m\u001b[38;5;241m100\u001b[39m)\n",
      "\u001b[1;31mNameError\u001b[0m: name 'x' is not defined"
     ]
    }
   ],
   "source": [
    "sizes=np.random.uniform(15,80,len(x))\n",
    "colors=np.random.uniform(15,20,len(x))\n",
    "plt.scatter(x,y,s=sizes,c=colors,vmin=0,vmax=100)"
   ]
  },
  {
   "cell_type": "code",
   "execution_count": null,
   "id": "1f404e98",
   "metadata": {},
   "outputs": [],
   "source": []
  }
 ],
 "metadata": {
  "kernelspec": {
   "display_name": "Python 3 (ipykernel)",
   "language": "python",
   "name": "python3"
  },
  "language_info": {
   "codemirror_mode": {
    "name": "ipython",
    "version": 3
   },
   "file_extension": ".py",
   "mimetype": "text/x-python",
   "name": "python",
   "nbconvert_exporter": "python",
   "pygments_lexer": "ipython3",
   "version": "3.10.9"
  }
 },
 "nbformat": 4,
 "nbformat_minor": 5
}
